{
 "cells": [
  {
   "cell_type": "markdown",
   "metadata": {},
   "source": [
    "# NHL Top Point Scorers (2014–2024)\n",
    "This notebook visualizes the NHL's top point scorer for each season from 2014 to 2024."
   ]
  },
  {
   "cell_type": "markdown",
   "metadata": {},
   "source": [
    "## 1. Data Input\n",
    "The table below shows the top point scorer, their team, and their total points for each season."
   ]
  },
  {
   "cell_type": "code",
   "execution_count": null,
   "metadata": {},
   "outputs": [],
   "source": [
    "import pandas as pd\n",
    "\n",
    "data = [\n",
    "    {\"Season\": 2014, \"Player\": \"Jamie Benn\", \"Team\": \"DAL\", \"Points\": 87},\n",
    "    {\"Season\": 2015, \"Player\": \"Patrick Kane\", \"Team\": \"CHI\", \"Points\": 106},\n",
    "    {\"Season\": 2016, \"Player\": \"Connor McDavid\", \"Team\": \"EDM\", \"Points\": 100},\n",
    "    {\"Season\": 2017, \"Player\": \"Connor McDavid\", \"Team\": \"EDM\", \"Points\": 108},\n",
    "    {\"Season\": 2018, \"Player\": \"Nikita Kucherov\", \"Team\": \"TBL\", \"Points\": 128},\n",
    "    {\"Season\": 2019, \"Player\": \"Leon Draisaitl\", \"Team\": \"EDM\", \"Points\": 110},\n",
    "    {\"Season\": 2020, \"Player\": \"Leon Draisaitl\", \"Team\": \"EDM\", \"Points\": 110},\n",
    "    {\"Season\": 2021, \"Player\": \"Connor McDavid\", \"Team\": \"EDM\", \"Points\": 105},\n",
    "    {\"Season\": 2022, \"Player\": \"Connor McDavid\", \"Team\": \"EDM\", \"Points\": 123},\n",
    "    {\"Season\": 2023, \"Player\": \"Connor McDavid\", \"Team\": \"EDM\", \"Points\": 153},\n",
    "    {\"Season\": 2024, \"Player\": \"Nikita Kucherov\", \"Team\": \"TBL\", \"Points\": 144}\n",
    "]\n",
    "\n",
    "df = pd.DataFrame(data)\n",
    "df"
   ]
  },
  {
   "cell_type": "markdown",
   "metadata": {},
   "source": [
    "## 2. Visualization\n",
    "The following graph shows the points scored by the top player each season."
   ]
  },
  {
   "cell_type": "code",
   "execution_count": null,
   "metadata": {},
   "outputs": [],
   "source": [
    "import matplotlib.pyplot as plt\n",
    "import seaborn as sns\n",
    "\n",
    "plt.figure(figsize=(12, 6))\n",
    "sns.lineplot(data=df, x=\"Season\", y=\"Points\", hue=\"Player\", marker=\"o\", palette=\"tab10\")\n",
    "for i, row in df.iterrows():\n",
    "    plt.text(row[\"Season\"], row[\"Points\"] + 2, f\"{row['Player']}\\n{row['Points']}\", ha='center', fontsize=9)\n",
    "plt.title(\"NHL Top Point Scorer by Season (2014–2024)\")\n",
    "plt.xlabel(\"Season\")\n",
    "plt.ylabel(\"Points\")\n",
    "plt.legend(title=\"Player\")\n",
    "plt.grid(True, linestyle='--', alpha=0.5)\n",
    "plt.tight_layout()\n",
    "plt.show()"
   ]
  },
  {
   "cell_type": "markdown",
   "metadata": {},
   "source": [
    "## 3. Notes\n",
    "- Data sourced from Hockey Reference and Wikipedia.\n",
    "- Update the dataset as new seasons finish or if you want to include more players or statistics."
   ]
  }
 ],
 "metadata": {
  "kernelspec": {
   "display_name": "Python 3",
   "language": "python",
   "name": "python3"
  }
 },
 "nbformat": 4,
 "nbformat_minor": 5
}